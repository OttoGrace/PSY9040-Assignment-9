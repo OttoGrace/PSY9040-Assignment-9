{
 "cells": [
  {
   "cell_type": "code",
   "execution_count": 7,
   "metadata": {},
   "outputs": [
    {
     "name": "stdout",
     "output_type": "stream",
     "text": [
      "The mean of [1.0, 1.0, 1.0, 1.0, 1.0] is 1.0\n"
     ]
    }
   ],
   "source": [
    "# Sample code for Assignment 9, with code for the mean of an array with 5 user number inputs.\n",
    "# Link to Program Instructions: https://gribblelab.org/coding/challenges/mean.html\n",
    "\n",
    "a = float(input(\"Enter your first number: \"))\n",
    "b = float(input(\"Enter your second number: \"))\n",
    "c = float(input(\"Enter your third number: \"))\n",
    "d = float(input(\"Enter your fourth number: \"))\n",
    "e = float(input(\"Enter your fifth number: \"))\n",
    "\n",
    "array = [a, b, c, d, e]\n",
    "\n",
    "f = ((a + b + c + d + e)/5)\n",
    "\n",
    "print(\"The mean of \" + str(array) + \" is \" + str(round(f, 2)))\n",
    "\n"
   ]
  }
 ],
 "metadata": {
  "kernelspec": {
   "display_name": "Python 3",
   "language": "python",
   "name": "python3"
  },
  "language_info": {
   "codemirror_mode": {
    "name": "ipython",
    "version": 3
   },
   "file_extension": ".py",
   "mimetype": "text/x-python",
   "name": "python",
   "nbconvert_exporter": "python",
   "pygments_lexer": "ipython3",
   "version": "3.11.8"
  }
 },
 "nbformat": 4,
 "nbformat_minor": 2
}
